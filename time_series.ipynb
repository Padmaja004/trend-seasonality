{
  "nbformat": 4,
  "nbformat_minor": 0,
  "metadata": {
    "colab": {
      "private_outputs": true,
      "provenance": [],
      "authorship_tag": "ABX9TyPd8S8VSXnQUK/B65DW/zSD",
      "include_colab_link": true
    },
    "kernelspec": {
      "name": "python3",
      "display_name": "Python 3"
    },
    "language_info": {
      "name": "python"
    }
  },
  "cells": [
    {
      "cell_type": "markdown",
      "metadata": {
        "id": "view-in-github",
        "colab_type": "text"
      },
      "source": [
        "<a href=\"https://colab.research.google.com/github/Padmaja004/trend-seasonality/blob/main/time_series.ipynb\" target=\"_parent\"><img src=\"https://colab.research.google.com/assets/colab-badge.svg\" alt=\"Open In Colab\"/></a>"
      ]
    },
    {
      "cell_type": "code",
      "execution_count": null,
      "metadata": {
        "id": "-81H-MEYv8hY"
      },
      "outputs": [],
      "source": [
        "#Here's a Python code that calculates trend and seasonality using the provided formulas and plots the combined trend and seasonality using the AirPassengers dataset:\n",
        "\n",
        "\n",
        "import matplotlib.pyplot as plt\n",
        "import pandas as pd\n",
        "import numpy as np\n",
        "\n",
        "# Load AirPassengers dataset\n",
        "data = pd.read_csv(\"/content/sales.csv\")\n",
        "data.index = pd.to_datetime(data.index)\n",
        "\n",
        "# Calculate trend using odd moving average\n",
        "def calculate_trend_odd_moving_average(time_series, q):\n",
        "    trend = []\n",
        "    window_size = 2 * q + 1\n",
        "    for i in range(len(time_series)):\n",
        "        if i < q:\n",
        "            trend.append(sum(time_series[:i+1]) / (i + 1))\n",
        "        elif i >= len(time_series) - q:\n",
        "            trend.append(sum(time_series[i:]) / (len(time_series) - i))\n",
        "        else:\n",
        "            trend.append(sum(time_series[i-q:i+q+1]) / window_size)\n",
        "    return trend\n",
        "\n",
        "# Calculate trend using weighted average\n",
        "def calculate_trend_weighted_average(time_series, q):\n",
        "    trend = []\n",
        "    for i in range(len(time_series)):\n",
        "        if i < q:\n",
        "            trend.append(time_series[i])\n",
        "        elif i >= len(time_series) - q:\n",
        "            trend.append(time_series[i])\n",
        "        else:\n",
        "            window_sum = 0.5 * time_series[i-q] + sum(time_series[i-q+1:i+q]) + 0.5 * time_series[i+q]\n",
        "            trend.append(window_sum / (2 * q + 1))\n",
        "    return trend\n",
        "\n",
        "# Calculate seasonality\n",
        "def calculate_seasonality(time_series, trend, d):\n",
        "    seasonality = []\n",
        "    weights = []\n",
        "    n = len(time_series)\n",
        "    for k in range(n):\n",
        "        weight_sum = 0\n",
        "        count = 0\n",
        "        for j in range(-q, q+1):\n",
        "            if 0 <= k + j * d < n:\n",
        "                weight_sum += time_series[k + j * d] - trend[k + j * d]\n",
        "                count += 1\n",
        "        weights.append(weight_sum / count)\n",
        "    avg_weight = sum(weights) / len(weights)\n",
        "    for k in range(n):\n",
        "        seasonality.append(weights[k] - avg_weight)\n",
        "    return seasonality\n",
        "\n",
        "# Parameters\n",
        "q = 2  # window size parameter\n",
        "d = 12  # seasonality period\n",
        "\n",
        "# Calculate trend and seasonality\n",
        "trend_odd_moving_average = calculate_trend_odd_moving_average(data['Margin'], q)\n",
        "trend_weighted_average = calculate_trend_weighted_average(data['Margin'], q)\n",
        "seasonality = calculate_seasonality(data['Margin'], trend_weighted_average, d)\n",
        "\n",
        "# Combine trend and seasonality\n",
        "combined = [t + s for t, s in zip(trend_weighted_average, seasonality)]\n",
        "\n",
        "# Plotting\n",
        "plt.figure(figsize=(10, 6))\n",
        "plt.plot(data['Margin'], label='Time Series', alpha=0.5)\n",
        "plt.plot(trend_weighted_average, label='Trend', color='orange')\n",
        "plt.plot(seasonality, label='Seasonality', color='green')\n",
        "plt.plot(combined, label='Trend + Seasonality', color='red')\n",
        "plt.title('Air Passengers Time Series Decomposition')\n",
        "plt.xlabel('Time')\n",
        "plt.ylabel('Margin')\n",
        "plt.legend()\n",
        "plt.show()\n",
        "\n",
        "\n"
      ]
    }
  ]
}